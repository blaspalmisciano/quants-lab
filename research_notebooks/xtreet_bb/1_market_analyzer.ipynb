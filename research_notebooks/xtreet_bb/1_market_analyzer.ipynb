{
 "cells": [
  {
   "cell_type": "code",
   "metadata": {
    "collapsed": false,
    "jupyter": {
     "outputs_hidden": false
    },
    "ExecuteTime": {
     "end_time": "2024-09-06T19:06:35.166810Z",
     "start_time": "2024-09-06T19:06:33.876549Z"
    }
   },
   "source": [
    "# This is necessary to recognize the modules\n",
    "import os\n",
    "import sys\n",
    "\n",
    "root_path = os.path.abspath(os.path.join(os.getcwd(), '../..'))\n",
    "sys.path.append(root_path)\n",
    "\n",
    "import asyncio\n",
    "from decimal import Decimal\n",
    "from core.data_sources import CLOBDataSource\n",
    "from core.features.candles.volatility import VolatilityConfig\n",
    "from research_notebooks.xtreet_bb.utils import generate_config, dump_dict_to_yaml\n",
    "\n",
    "clob = CLOBDataSource()"
   ],
   "outputs": [
    {
     "name": "stderr",
     "output_type": "stream",
     "text": [
      "2024-09-06 16:06:34,880 - asyncio - ERROR - Unclosed client session\n",
      "client_session: <aiohttp.client.ClientSession object at 0x713d0265bd00>\n"
     ]
    }
   ],
   "execution_count": 1
  },
  {
   "cell_type": "code",
   "metadata": {
    "collapsed": false,
    "jupyter": {
     "outputs_hidden": false
    },
    "ExecuteTime": {
     "end_time": "2024-09-06T19:06:35.176120Z",
     "start_time": "2024-09-06T19:06:35.171111Z"
    }
   },
   "source": [
    "# Screener parameters\n",
    "CONNECTOR_NAME = \"binance_perpetual\"\n",
    "INTERVALS = [\"1m\"]\n",
    "DAYS = 7\n",
    "FETCH_CANDLES = False\n",
    "BATCH_CANDLES_REQUEST = 15\n",
    "SLEEP_REQUEST = 60.0\n",
    "VOLUME_THRESHOLD = 0.6  # From percentile VOLUME_THRESHOLD to 1\n",
    "VOLATILITY_THRESHOLD = 0.6  # From percentile VOLATILITY_THRESHOLD to 1\n",
    "\n",
    "# Trading Rules Filter\n",
    "QUOTE_ASSET = \"USDT\"\n",
    "MIN_NOTIONAL_SIZE = 5  # In USDT\n",
    "MAX_PRICE_STEP = 0.001  # Min price step in % (tick size)\n",
    "\n",
    "VOLATILITY_WINDOW = 60  # In bars\n",
    "VOLUME_FAST_WINDOW = 20  # No se usa\n",
    "VOLUME_SLOW_WINDOW = 100  # No se usa\n",
    "\n",
    "# Config generation\n",
    "TOTAL_AMOUNT = 300  # General total amount for all markets\n",
    "ACTIVATION_BOUNDS = 0.002  # Input activation bounds\n",
    "MAX_EXECUTORS_PER_SIDE = 1  # Maximum number of executors per side\n",
    "COOLDOWN_TIME = 0\n",
    "LEVERAGE = 20 # Should be for each trading pair\n",
    "TIME_LIMIT = 60 * 60 * 24\n",
    "BOLLINGER_LENGTHS = [50, 100, 200]\n",
    "BOLLINGER_STDS = [1.4, 1.8, 2.2]\n",
    "SL_STD_MULTIPLIER = 2\n",
    "TS_DELTA_MULTIPLIER = 0.2\n",
    "MAX_DCA_AMOUNT_RATIO = 2.8 # Amount 2 / Amount 1\n",
    "\n",
    "\n",
    "# Config filtering\n",
    "MIN_DISTANCE_BETWEEN_ORDERS = 0.01\n",
    "MAX_TS_SL_RATIO = 0.5"
   ],
   "outputs": [],
   "execution_count": 2
  },
  {
   "cell_type": "markdown",
   "metadata": {
    "collapsed": false,
    "jupyter": {
     "outputs_hidden": false
    }
   },
   "source": [
    "# Download data\n",
    "- Get trading rules\n",
    "- Get candles for the last x days"
   ]
  },
  {
   "cell_type": "code",
   "source": [
    "trading_rules = await clob.get_trading_rules(CONNECTOR_NAME)\n",
    "trading_pairs = trading_rules.filter_by_quote_asset(QUOTE_ASSET)\\\n",
    "    .filter_by_min_notional_size(Decimal(MIN_NOTIONAL_SIZE))\\\n",
    "    .get_all_trading_pairs()\n",
    "\n",
    "if FETCH_CANDLES:\n",
    "    number_of_calls = (len(trading_pairs) // BATCH_CANDLES_REQUEST) + 1\n",
    "\n",
    "    all_candles = {}\n",
    "\n",
    "    for i in range(number_of_calls):\n",
    "        print(f\"Batch {i + 1}/{number_of_calls}\")\n",
    "        start = i * BATCH_CANDLES_REQUEST\n",
    "        end = (i + 1) * BATCH_CANDLES_REQUEST\n",
    "        print(f\"Start: {start}, End: {end}\")\n",
    "        end = min(end, len(trading_pairs))\n",
    "        trading_pairs_batch = trading_pairs[start:end]\n",
    "\n",
    "        tasks = [clob.get_candles_last_days(\n",
    "        connector_name=CONNECTOR_NAME,\n",
    "        trading_pair=trading_pair,\n",
    "        interval=interval,\n",
    "        days=DAYS,\n",
    "        ) for trading_pair in trading_pairs_batch for interval in INTERVALS]\n",
    "\n",
    "        candles = await asyncio.gather(*tasks)\n",
    "        candles = {trading_pair: candle for trading_pair, candle in zip(trading_pairs, candles)}\n",
    "        all_candles.update(candles)\n",
    "        if i != number_of_calls - 1:\n",
    "            print(f\"Sleeping for {SLEEP_REQUEST} seconds\")\n",
    "            await asyncio.sleep(SLEEP_REQUEST)\n",
    "    clob.dump_candles_cache(os.path.join(root_path, \"data\"))\n",
    "else:\n",
    "    clob.load_candles_cache(os.path.join(root_path, \"data\"))\n",
    "candles = [value for key, value in clob.candles_cache.items() if key[2] in INTERVALS and key[0] == CONNECTOR_NAME]"
   ],
   "metadata": {
    "collapsed": false,
    "ExecuteTime": {
     "end_time": "2024-09-06T19:06:42.789227Z",
     "start_time": "2024-09-06T19:06:35.223483Z"
    }
   },
   "outputs": [
    {
     "name": "stderr",
     "output_type": "stream",
     "text": [
      "2024-09-06 16:06:36,767 - asyncio - ERROR - Unclosed client session\n",
      "client_session: <aiohttp.client.ClientSession object at 0x713d01b00160>\n",
      "2024-09-06 16:06:36,767 - asyncio - ERROR - Unclosed connector\n",
      "connections: ['[(<aiohttp.client_proto.ResponseHandler object at 0x713d01cd2fe0>, 30392.064520291)]']\n",
      "connector: <aiohttp.connector.TCPConnector object at 0x713d01b00190>\n"
     ]
    }
   ],
   "execution_count": 3
  },
  {
   "cell_type": "code",
   "source": [
    "from core.features.candles.volume import VolumeConfig\n",
    "from research_notebooks.xtreet_bb.utils import generate_screener_report\n",
    "\n",
    "screner_report = generate_screener_report(\n",
    "    candles=candles,\n",
    "    trading_rules=trading_rules,\n",
    "    volatility_config=VolatilityConfig(window=VOLATILITY_WINDOW),\n",
    "    volume_config=VolumeConfig(short_window=VOLUME_FAST_WINDOW, long_window=VOLUME_FAST_WINDOW))\n",
    "screner_report[\"url\"] = screner_report[\"trading_pair\"].apply(lambda x: f\"https://www.binance.com/en/trade/{x}\")\n",
    "screner_report.sort_values(\"mean_natr\", ascending=False, inplace=True)\n",
    "screner_report"
   ],
   "metadata": {
    "collapsed": false,
    "ExecuteTime": {
     "end_time": "2024-09-06T19:06:46.475893Z",
     "start_time": "2024-09-06T19:06:42.802974Z"
    }
   },
   "outputs": [
    {
     "data": {
      "text/plain": [
       "      trading_pair  mean_volatility  mean_natr  mean_bb_width  \\\n",
       "110  NEIROETH-USDT        0.0097253 0.01611531     8.48136913   \n",
       "165       XEM-USDT       0.00436335 0.00636937     1.67299888   \n",
       "50      QUICK-USDT       0.00331915 0.00494724     3.89310795   \n",
       "24       REEF-USDT       0.00330923 0.00484884     3.26473049   \n",
       "127       CRV-USDT        0.0031153 0.00463922     1.56157176   \n",
       "..             ...              ...        ...            ...   \n",
       "131      LOOM-USDT       0.00077972 0.00084157     0.83893234   \n",
       "179       XLM-USDT         0.000554 0.00063495     0.60824518   \n",
       "160       TRX-USDT       0.00035611 0.00043862     0.39203352   \n",
       "192    BTCDOM-USDT       0.00033708 0.00036044     0.33709196   \n",
       "253      USDC-USDT       0.00000241 0.00000123     0.00362912   \n",
       "\n",
       "     average_volume_per_hour  last_price  price_step_pct  normalized_score  \\\n",
       "110        18042060.80929412      0.1396      0.00071633                 1   \n",
       "165          688599.73595992      0.0156      0.00641026        0.00758553   \n",
       "50          7690179.50986999     0.04556      0.00021949        0.19516165   \n",
       "24         14697234.52757105     0.00121      0.00082645        0.31305094   \n",
       "127          5049395.0506332       0.265      0.00377358        0.05174774   \n",
       "..                       ...         ...             ...               ...   \n",
       "131          139307.77892878      0.0412      0.00024272        0.00076103   \n",
       "179          750284.13649916     0.08781      0.00011388        0.00297217   \n",
       "160         3994274.07787786      0.1478      0.00006766         0.0102014   \n",
       "192          132841.71419446      2857.1        0.000035        0.00029167   \n",
       "253           45641.56980877    1.000155        0.000001        0.00000108   \n",
       "\n",
       "                                                url  \n",
       "110  https://www.binance.com/en/trade/NEIROETH-USDT  \n",
       "165       https://www.binance.com/en/trade/XEM-USDT  \n",
       "50      https://www.binance.com/en/trade/QUICK-USDT  \n",
       "24       https://www.binance.com/en/trade/REEF-USDT  \n",
       "127       https://www.binance.com/en/trade/CRV-USDT  \n",
       "..                                              ...  \n",
       "131      https://www.binance.com/en/trade/LOOM-USDT  \n",
       "179       https://www.binance.com/en/trade/XLM-USDT  \n",
       "160       https://www.binance.com/en/trade/TRX-USDT  \n",
       "192    https://www.binance.com/en/trade/BTCDOM-USDT  \n",
       "253      https://www.binance.com/en/trade/USDC-USDT  \n",
       "\n",
       "[274 rows x 9 columns]"
      ],
      "text/html": [
       "<div>\n",
       "<style scoped>\n",
       "    .dataframe tbody tr th:only-of-type {\n",
       "        vertical-align: middle;\n",
       "    }\n",
       "\n",
       "    .dataframe tbody tr th {\n",
       "        vertical-align: top;\n",
       "    }\n",
       "\n",
       "    .dataframe thead th {\n",
       "        text-align: right;\n",
       "    }\n",
       "</style>\n",
       "<table border=\"1\" class=\"dataframe\">\n",
       "  <thead>\n",
       "    <tr style=\"text-align: right;\">\n",
       "      <th></th>\n",
       "      <th>trading_pair</th>\n",
       "      <th>mean_volatility</th>\n",
       "      <th>mean_natr</th>\n",
       "      <th>mean_bb_width</th>\n",
       "      <th>average_volume_per_hour</th>\n",
       "      <th>last_price</th>\n",
       "      <th>price_step_pct</th>\n",
       "      <th>normalized_score</th>\n",
       "      <th>url</th>\n",
       "    </tr>\n",
       "  </thead>\n",
       "  <tbody>\n",
       "    <tr>\n",
       "      <th>110</th>\n",
       "      <td>NEIROETH-USDT</td>\n",
       "      <td>0.0097253</td>\n",
       "      <td>0.01611531</td>\n",
       "      <td>8.48136913</td>\n",
       "      <td>18042060.80929412</td>\n",
       "      <td>0.1396</td>\n",
       "      <td>0.00071633</td>\n",
       "      <td>1</td>\n",
       "      <td>https://www.binance.com/en/trade/NEIROETH-USDT</td>\n",
       "    </tr>\n",
       "    <tr>\n",
       "      <th>165</th>\n",
       "      <td>XEM-USDT</td>\n",
       "      <td>0.00436335</td>\n",
       "      <td>0.00636937</td>\n",
       "      <td>1.67299888</td>\n",
       "      <td>688599.73595992</td>\n",
       "      <td>0.0156</td>\n",
       "      <td>0.00641026</td>\n",
       "      <td>0.00758553</td>\n",
       "      <td>https://www.binance.com/en/trade/XEM-USDT</td>\n",
       "    </tr>\n",
       "    <tr>\n",
       "      <th>50</th>\n",
       "      <td>QUICK-USDT</td>\n",
       "      <td>0.00331915</td>\n",
       "      <td>0.00494724</td>\n",
       "      <td>3.89310795</td>\n",
       "      <td>7690179.50986999</td>\n",
       "      <td>0.04556</td>\n",
       "      <td>0.00021949</td>\n",
       "      <td>0.19516165</td>\n",
       "      <td>https://www.binance.com/en/trade/QUICK-USDT</td>\n",
       "    </tr>\n",
       "    <tr>\n",
       "      <th>24</th>\n",
       "      <td>REEF-USDT</td>\n",
       "      <td>0.00330923</td>\n",
       "      <td>0.00484884</td>\n",
       "      <td>3.26473049</td>\n",
       "      <td>14697234.52757105</td>\n",
       "      <td>0.00121</td>\n",
       "      <td>0.00082645</td>\n",
       "      <td>0.31305094</td>\n",
       "      <td>https://www.binance.com/en/trade/REEF-USDT</td>\n",
       "    </tr>\n",
       "    <tr>\n",
       "      <th>127</th>\n",
       "      <td>CRV-USDT</td>\n",
       "      <td>0.0031153</td>\n",
       "      <td>0.00463922</td>\n",
       "      <td>1.56157176</td>\n",
       "      <td>5049395.0506332</td>\n",
       "      <td>0.265</td>\n",
       "      <td>0.00377358</td>\n",
       "      <td>0.05174774</td>\n",
       "      <td>https://www.binance.com/en/trade/CRV-USDT</td>\n",
       "    </tr>\n",
       "    <tr>\n",
       "      <th>...</th>\n",
       "      <td>...</td>\n",
       "      <td>...</td>\n",
       "      <td>...</td>\n",
       "      <td>...</td>\n",
       "      <td>...</td>\n",
       "      <td>...</td>\n",
       "      <td>...</td>\n",
       "      <td>...</td>\n",
       "      <td>...</td>\n",
       "    </tr>\n",
       "    <tr>\n",
       "      <th>131</th>\n",
       "      <td>LOOM-USDT</td>\n",
       "      <td>0.00077972</td>\n",
       "      <td>0.00084157</td>\n",
       "      <td>0.83893234</td>\n",
       "      <td>139307.77892878</td>\n",
       "      <td>0.0412</td>\n",
       "      <td>0.00024272</td>\n",
       "      <td>0.00076103</td>\n",
       "      <td>https://www.binance.com/en/trade/LOOM-USDT</td>\n",
       "    </tr>\n",
       "    <tr>\n",
       "      <th>179</th>\n",
       "      <td>XLM-USDT</td>\n",
       "      <td>0.000554</td>\n",
       "      <td>0.00063495</td>\n",
       "      <td>0.60824518</td>\n",
       "      <td>750284.13649916</td>\n",
       "      <td>0.08781</td>\n",
       "      <td>0.00011388</td>\n",
       "      <td>0.00297217</td>\n",
       "      <td>https://www.binance.com/en/trade/XLM-USDT</td>\n",
       "    </tr>\n",
       "    <tr>\n",
       "      <th>160</th>\n",
       "      <td>TRX-USDT</td>\n",
       "      <td>0.00035611</td>\n",
       "      <td>0.00043862</td>\n",
       "      <td>0.39203352</td>\n",
       "      <td>3994274.07787786</td>\n",
       "      <td>0.1478</td>\n",
       "      <td>0.00006766</td>\n",
       "      <td>0.0102014</td>\n",
       "      <td>https://www.binance.com/en/trade/TRX-USDT</td>\n",
       "    </tr>\n",
       "    <tr>\n",
       "      <th>192</th>\n",
       "      <td>BTCDOM-USDT</td>\n",
       "      <td>0.00033708</td>\n",
       "      <td>0.00036044</td>\n",
       "      <td>0.33709196</td>\n",
       "      <td>132841.71419446</td>\n",
       "      <td>2857.1</td>\n",
       "      <td>0.000035</td>\n",
       "      <td>0.00029167</td>\n",
       "      <td>https://www.binance.com/en/trade/BTCDOM-USDT</td>\n",
       "    </tr>\n",
       "    <tr>\n",
       "      <th>253</th>\n",
       "      <td>USDC-USDT</td>\n",
       "      <td>0.00000241</td>\n",
       "      <td>0.00000123</td>\n",
       "      <td>0.00362912</td>\n",
       "      <td>45641.56980877</td>\n",
       "      <td>1.000155</td>\n",
       "      <td>0.000001</td>\n",
       "      <td>0.00000108</td>\n",
       "      <td>https://www.binance.com/en/trade/USDC-USDT</td>\n",
       "    </tr>\n",
       "  </tbody>\n",
       "</table>\n",
       "<p>274 rows × 9 columns</p>\n",
       "</div>"
      ]
     },
     "execution_count": 4,
     "metadata": {},
     "output_type": "execute_result"
    }
   ],
   "execution_count": 4
  },
  {
   "cell_type": "code",
   "source": [
    "# Calculate the 20th percentile (0.2 quantile) for both columns\n",
    "natr_percentile = screner_report['mean_natr'].quantile(VOLATILITY_THRESHOLD)\n",
    "volume_percentile = screner_report['average_volume_per_hour'].quantile(VOLUME_THRESHOLD)\n",
    "\n",
    "# Filter the DataFrame to get observations where mean_natr is greater than its 20th percentile\n",
    "# and average_volume_per_hour is greater than its 20th percentile\n",
    "screener_top_markets = screner_report[\n",
    "    (screner_report['mean_natr'] > natr_percentile) &\n",
    "    (screner_report['average_volume_per_hour'] > volume_percentile) &\n",
    "    (screner_report[\"price_step_pct\"] < MAX_PRICE_STEP)\n",
    "].sort_values(by=\"average_volume_per_hour\").head(10)\n",
    "\n",
    "# Display the filtered DataFrame\n",
    "screener_top_markets[[\"trading_pair\", \"mean_natr\", \"average_volume_per_hour\", \"price_step_pct\", \"url\"]]"
   ],
   "metadata": {
    "collapsed": false,
    "ExecuteTime": {
     "end_time": "2024-09-06T19:10:35.261175Z",
     "start_time": "2024-09-06T19:10:35.249547Z"
    }
   },
   "outputs": [
    {
     "data": {
      "text/plain": [
       "    trading_pair  mean_natr  average_volume_per_hour  price_step_pct  \\\n",
       "101   BEAMX-USDT 0.00173747          727156.72267267      0.00008578   \n",
       "213   LISTA-USDT 0.00181937          746252.15146582      0.00031867   \n",
       "200    ARKM-USDT 0.00183161          781407.58286378      0.00010626   \n",
       "224     REZ-USDT 0.00172569          819931.22254819      0.00029931   \n",
       "70   BANANA-USDT 0.00174956          825320.76453259      0.00002651   \n",
       "76      REN-USDT 0.00177216          828735.38704614        0.000293   \n",
       "0     LEVER-USDT 0.00206584          840326.09548268      0.00005176   \n",
       "189   VOXEL-USDT 0.00208666          883395.50190753      0.00071994   \n",
       "89    TURBO-USDT 0.00201473         1001940.45111763      0.00028506   \n",
       "103      ZK-USDT 0.00175745         1006455.27349505      0.00010004   \n",
       "\n",
       "                                              url  \n",
       "101   https://www.binance.com/en/trade/BEAMX-USDT  \n",
       "213   https://www.binance.com/en/trade/LISTA-USDT  \n",
       "200    https://www.binance.com/en/trade/ARKM-USDT  \n",
       "224     https://www.binance.com/en/trade/REZ-USDT  \n",
       "70   https://www.binance.com/en/trade/BANANA-USDT  \n",
       "76      https://www.binance.com/en/trade/REN-USDT  \n",
       "0     https://www.binance.com/en/trade/LEVER-USDT  \n",
       "189   https://www.binance.com/en/trade/VOXEL-USDT  \n",
       "89    https://www.binance.com/en/trade/TURBO-USDT  \n",
       "103      https://www.binance.com/en/trade/ZK-USDT  "
      ],
      "text/html": [
       "<div>\n",
       "<style scoped>\n",
       "    .dataframe tbody tr th:only-of-type {\n",
       "        vertical-align: middle;\n",
       "    }\n",
       "\n",
       "    .dataframe tbody tr th {\n",
       "        vertical-align: top;\n",
       "    }\n",
       "\n",
       "    .dataframe thead th {\n",
       "        text-align: right;\n",
       "    }\n",
       "</style>\n",
       "<table border=\"1\" class=\"dataframe\">\n",
       "  <thead>\n",
       "    <tr style=\"text-align: right;\">\n",
       "      <th></th>\n",
       "      <th>trading_pair</th>\n",
       "      <th>mean_natr</th>\n",
       "      <th>average_volume_per_hour</th>\n",
       "      <th>price_step_pct</th>\n",
       "      <th>url</th>\n",
       "    </tr>\n",
       "  </thead>\n",
       "  <tbody>\n",
       "    <tr>\n",
       "      <th>101</th>\n",
       "      <td>BEAMX-USDT</td>\n",
       "      <td>0.00173747</td>\n",
       "      <td>727156.72267267</td>\n",
       "      <td>0.00008578</td>\n",
       "      <td>https://www.binance.com/en/trade/BEAMX-USDT</td>\n",
       "    </tr>\n",
       "    <tr>\n",
       "      <th>213</th>\n",
       "      <td>LISTA-USDT</td>\n",
       "      <td>0.00181937</td>\n",
       "      <td>746252.15146582</td>\n",
       "      <td>0.00031867</td>\n",
       "      <td>https://www.binance.com/en/trade/LISTA-USDT</td>\n",
       "    </tr>\n",
       "    <tr>\n",
       "      <th>200</th>\n",
       "      <td>ARKM-USDT</td>\n",
       "      <td>0.00183161</td>\n",
       "      <td>781407.58286378</td>\n",
       "      <td>0.00010626</td>\n",
       "      <td>https://www.binance.com/en/trade/ARKM-USDT</td>\n",
       "    </tr>\n",
       "    <tr>\n",
       "      <th>224</th>\n",
       "      <td>REZ-USDT</td>\n",
       "      <td>0.00172569</td>\n",
       "      <td>819931.22254819</td>\n",
       "      <td>0.00029931</td>\n",
       "      <td>https://www.binance.com/en/trade/REZ-USDT</td>\n",
       "    </tr>\n",
       "    <tr>\n",
       "      <th>70</th>\n",
       "      <td>BANANA-USDT</td>\n",
       "      <td>0.00174956</td>\n",
       "      <td>825320.76453259</td>\n",
       "      <td>0.00002651</td>\n",
       "      <td>https://www.binance.com/en/trade/BANANA-USDT</td>\n",
       "    </tr>\n",
       "    <tr>\n",
       "      <th>76</th>\n",
       "      <td>REN-USDT</td>\n",
       "      <td>0.00177216</td>\n",
       "      <td>828735.38704614</td>\n",
       "      <td>0.000293</td>\n",
       "      <td>https://www.binance.com/en/trade/REN-USDT</td>\n",
       "    </tr>\n",
       "    <tr>\n",
       "      <th>0</th>\n",
       "      <td>LEVER-USDT</td>\n",
       "      <td>0.00206584</td>\n",
       "      <td>840326.09548268</td>\n",
       "      <td>0.00005176</td>\n",
       "      <td>https://www.binance.com/en/trade/LEVER-USDT</td>\n",
       "    </tr>\n",
       "    <tr>\n",
       "      <th>189</th>\n",
       "      <td>VOXEL-USDT</td>\n",
       "      <td>0.00208666</td>\n",
       "      <td>883395.50190753</td>\n",
       "      <td>0.00071994</td>\n",
       "      <td>https://www.binance.com/en/trade/VOXEL-USDT</td>\n",
       "    </tr>\n",
       "    <tr>\n",
       "      <th>89</th>\n",
       "      <td>TURBO-USDT</td>\n",
       "      <td>0.00201473</td>\n",
       "      <td>1001940.45111763</td>\n",
       "      <td>0.00028506</td>\n",
       "      <td>https://www.binance.com/en/trade/TURBO-USDT</td>\n",
       "    </tr>\n",
       "    <tr>\n",
       "      <th>103</th>\n",
       "      <td>ZK-USDT</td>\n",
       "      <td>0.00175745</td>\n",
       "      <td>1006455.27349505</td>\n",
       "      <td>0.00010004</td>\n",
       "      <td>https://www.binance.com/en/trade/ZK-USDT</td>\n",
       "    </tr>\n",
       "  </tbody>\n",
       "</table>\n",
       "</div>"
      ]
     },
     "execution_count": 14,
     "metadata": {},
     "output_type": "execute_result"
    }
   ],
   "execution_count": 14
  },
  {
   "cell_type": "code",
   "metadata": {
    "collapsed": false,
    "jupyter": {
     "outputs_hidden": false
    },
    "ExecuteTime": {
     "end_time": "2024-09-06T19:10:50.092865Z",
     "start_time": "2024-09-06T19:10:41.433852Z"
    }
   },
   "source": [
    "strategy_configs = generate_config(\n",
    "    connector_name=CONNECTOR_NAME,\n",
    "    intervals=INTERVALS,\n",
    "    screener_top_markets=screener_top_markets,\n",
    "    candles=candles,\n",
    "    total_amount=TOTAL_AMOUNT,\n",
    "    max_executors_per_side=MAX_EXECUTORS_PER_SIDE,\n",
    "    cooldown_time=COOLDOWN_TIME,\n",
    "    leverage=LEVERAGE,\n",
    "    time_limit=TIME_LIMIT,\n",
    "    bb_lengths=BOLLINGER_LENGTHS,\n",
    "    bb_stds=BOLLINGER_STDS,\n",
    "    sl_std_multiplier=SL_STD_MULTIPLIER,\n",
    "    min_distance_between_orders=MIN_DISTANCE_BETWEEN_ORDERS,\n",
    "    max_ts_sl_ratio=MAX_TS_SL_RATIO,\n",
    "    ts_delta_multiplier=TS_DELTA_MULTIPLIER,\n",
    "    max_dca_amount_ratio=MAX_DCA_AMOUNT_RATIO\n",
    ")"
   ],
   "outputs": [
    {
     "name": "stdout",
     "output_type": "stream",
     "text": [
      "Skipping ZK-USDT due to stop loss closer to get executed:BEP: 0.01725441007891848, SL: 0.011528565647386298, S1: 0.03184391179816236\n"
     ]
    }
   ],
   "execution_count": 15
  },
  {
   "cell_type": "code",
   "source": [
    "len(set([config[\"trading_pair\"] for config in strategy_configs]))"
   ],
   "metadata": {
    "collapsed": false,
    "ExecuteTime": {
     "end_time": "2024-09-06T19:10:52.390762Z",
     "start_time": "2024-09-06T19:10:52.385920Z"
    }
   },
   "outputs": [
    {
     "data": {
      "text/plain": [
       "10"
      ]
     },
     "execution_count": 16,
     "metadata": {},
     "output_type": "execute_result"
    }
   ],
   "execution_count": 16
  },
  {
   "cell_type": "code",
   "source": [
    "len(strategy_configs)"
   ],
   "metadata": {
    "collapsed": false,
    "ExecuteTime": {
     "end_time": "2024-09-06T19:10:53.595100Z",
     "start_time": "2024-09-06T19:10:53.590950Z"
    }
   },
   "outputs": [
    {
     "data": {
      "text/plain": [
       "57"
      ]
     },
     "execution_count": 17,
     "metadata": {},
     "output_type": "execute_result"
    }
   ],
   "execution_count": 17
  },
  {
   "cell_type": "code",
   "source": [
    "# DCA amounts\n",
    "for config in strategy_configs:\n",
    "    dump_dict_to_yaml(\"configs/\", config)"
   ],
   "metadata": {
    "collapsed": false,
    "ExecuteTime": {
     "end_time": "2024-09-06T19:10:56.694338Z",
     "start_time": "2024-09-06T19:10:56.619580Z"
    }
   },
   "outputs": [],
   "execution_count": 18
  },
  {
   "cell_type": "code",
   "source": [],
   "metadata": {
    "collapsed": false,
    "ExecuteTime": {
     "end_time": "2024-09-06T19:07:36.490346Z",
     "start_time": "2024-09-06T19:07:36.487675Z"
    }
   },
   "outputs": [],
   "execution_count": null
  }
 ],
 "metadata": {
  "kernelspec": {
   "display_name": "Python 3 (ipykernel)",
   "language": "python",
   "name": "python3"
  },
  "language_info": {
   "codemirror_mode": {
    "name": "ipython",
    "version": 3
   },
   "file_extension": ".py",
   "mimetype": "text/x-python",
   "name": "python",
   "nbconvert_exporter": "python",
   "pygments_lexer": "ipython3",
   "version": "3.10.14"
  }
 },
 "nbformat": 4,
 "nbformat_minor": 4
}
