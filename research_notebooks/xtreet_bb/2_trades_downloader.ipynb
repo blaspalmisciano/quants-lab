{
 "cells": [
  {
   "cell_type": "code",
   "id": "initial_id",
   "metadata": {
    "collapsed": true,
    "ExecuteTime": {
     "end_time": "2024-09-06T19:33:07.600026Z",
     "start_time": "2024-09-06T19:33:06.424483Z"
    }
   },
   "source": [
    "import os\n",
    "import sys\n",
    "\n",
    "from core.data_sources import CLOBDataSource\n",
    "from core.data_structures.candles import Candles\n",
    "from research_notebooks.xtreet_bb.utils import read_yaml_to_dict\n",
    "\n",
    "root_path = os.path.abspath(os.path.join(os.getcwd(), '../..'))\n",
    "sys.path.append(root_path)\n",
    "clob = CLOBDataSource()"
   ],
   "outputs": [
    {
     "name": "stderr",
     "output_type": "stream",
     "text": [
      "2024-09-06 16:33:07,375 - asyncio - ERROR - Unclosed client session\n",
      "client_session: <aiohttp.client.ClientSession object at 0x7912e5e543d0>\n"
     ]
    }
   ],
   "execution_count": 1
  },
  {
   "metadata": {
    "ExecuteTime": {
     "end_time": "2024-09-06T20:17:57.749919Z",
     "start_time": "2024-09-06T19:50:18.916942Z"
    }
   },
   "cell_type": "code",
   "source": [
    "base_path = os.path.join(root_path, \"research_notebooks\", \"xtreet_bb\", \"configs\")\n",
    "trading_pairs = []\n",
    "for config_path in os.listdir(base_path):\n",
    "    if config_path != \".gitignore\":\n",
    "        config_dict = read_yaml_to_dict(os.path.join(base_path, config_path))\n",
    "        trading_pairs.append(config_dict[\"trading_pair\"])\n",
    "trading_pairs = list(set(trading_pairs))\n",
    "trading_pairs = [trading_pair for trading_pair in trading_pairs if trading_pair not in [\"BANANA-USDT\"]]\n",
    "DAYS_TO_DOWNLOAD = 7\n",
    "candles_dict = {}\n",
    "i = 0\n",
    "for trading_pair in trading_pairs:\n",
    "    i += 1\n",
    "    print(f\"Fetching trades for {trading_pair} [{i} from {len(trading_pairs)}]\")\n",
    "    candles_dict[trading_pair]: Candles = await clob.get_candles_last_days(connector_name=\"binance_perpetual\",\n",
    "                                                                  trading_pair=trading_pair,\n",
    "                                                                  interval=\"1s\",\n",
    "                                                                  days=DAYS_TO_DOWNLOAD,\n",
    "                                                                  from_trades=True)\n",
    "    clob.dump_candles_cache(os.path.join(root_path, \"data\", \"candles\"))"
   ],
   "id": "c06cf2572f5dbd18",
   "outputs": [
    {
     "name": "stdout",
     "output_type": "stream",
     "text": [
      "Fetching trades for LISTA-USDT [1 from 9]\n",
      "Fetching trades for ZK-USDT [2 from 9]\n",
      "Fetching trades for VOXEL-USDT [3 from 9]\n",
      "Fetching trades for BEAMX-USDT [4 from 9]\n",
      "Fetching trades for REZ-USDT [5 from 9]\n",
      "Fetching trades for REN-USDT [6 from 9]\n",
      "Fetching trades for ARKM-USDT [7 from 9]\n",
      "Fetching trades for TURBO-USDT [8 from 9]\n",
      "Fetching trades for LEVER-USDT [9 from 9]\n"
     ]
    }
   ],
   "execution_count": 3
  },
  {
   "metadata": {
    "ExecuteTime": {
     "end_time": "2024-09-06T19:20:24.642289Z",
     "start_time": "2024-09-06T19:20:24.637169Z"
    }
   },
   "cell_type": "code",
   "source": "",
   "id": "98acc65693a796e3",
   "outputs": [
    {
     "data": {
      "text/plain": [
       "['LEVER-USDT',\n",
       " 'TURBO-USDT',\n",
       " 'REN-USDT',\n",
       " 'BANANA-USDT',\n",
       " 'ZK-USDT',\n",
       " 'ARKM-USDT',\n",
       " 'REZ-USDT',\n",
       " 'LISTA-USDT',\n",
       " 'BEAMX-USDT',\n",
       " 'VOXEL-USDT']"
      ]
     },
     "execution_count": 10,
     "metadata": {},
     "output_type": "execute_result"
    }
   ],
   "execution_count": 10
  },
  {
   "metadata": {},
   "cell_type": "code",
   "outputs": [],
   "execution_count": null,
   "source": "",
   "id": "a78084fc02b1f1e4"
  }
 ],
 "metadata": {
  "kernelspec": {
   "display_name": "Python 3",
   "language": "python",
   "name": "python3"
  },
  "language_info": {
   "codemirror_mode": {
    "name": "ipython",
    "version": 2
   },
   "file_extension": ".py",
   "mimetype": "text/x-python",
   "name": "python",
   "nbconvert_exporter": "python",
   "pygments_lexer": "ipython2",
   "version": "2.7.6"
  }
 },
 "nbformat": 4,
 "nbformat_minor": 5
}
